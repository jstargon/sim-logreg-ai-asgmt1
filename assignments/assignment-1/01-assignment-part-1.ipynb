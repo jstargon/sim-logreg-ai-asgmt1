{
 "cells": [
  {
   "cell_type": "markdown",
   "id": "90e616d7",
   "metadata": {},
   "source": [
    "# Placeholder\n",
    "\n",
    "Name the files names in the order you expect the TA to see their output. "
   ]
  },
  {
   "cell_type": "markdown",
   "id": "4aef449c",
   "metadata": {},
   "source": []
  },
  {
   "cell_type": "markdown",
   "id": "683fbf37",
   "metadata": {},
   "source": [
    "assignment-1/part-A.ipynb\n",
    "\n",
    "assignment-1/part-B.ipynb\n",
    "```\n",
    "\n",
    "In the above example the TA will see the output of `assignment-1/part-A.ipynb` first, then `assignment-1/part-B.ipynb` to grade your assignment 1. If there is a part that itself is a folder, name the subfolder as `part-A` or `part-B` and put the files inside it.\n",
    "\n"
   ]
  }
 ],
 "metadata": {
  "language_info": {
   "name": "python"
  }
 },
 "nbformat": 4,
 "nbformat_minor": 5
}
