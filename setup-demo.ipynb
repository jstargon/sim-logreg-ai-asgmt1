{
 "cells": [
  {
   "cell_type": "markdown",
   "id": "363cfdc6",
   "metadata": {},
   "source": [
    "# Environment Setup Demo\n",
    "\n",
    "This notebook demonstrates the environment setup using Makefile commands."
   ]
  },
  {
   "cell_type": "markdown",
   "id": "f5f7d731",
   "metadata": {},
   "source": [
    "## 1. Check Environment Variables\n",
    "\n",
    "First, let's check the environment variables that control our setup:"
   ]
  },
  {
   "cell_type": "code",
   "execution_count": null,
   "id": "309e67e7",
   "metadata": {},
   "outputs": [],
   "source": [
    "import os\n",
    "import subprocess\n",
    "\n",
    "# Check UV_EXTRA setting\n",
    "uv_extra = os.getenv('UV_EXTRA', 'cpu')\n",
    "print(f\"UV_EXTRA: {uv_extra}\")\n",
    "\n",
    "# Check other environment variables\n",
    "print(f\"VIRTUAL_ENV: {os.getenv('VIRTUAL_ENV')}\")\n",
    "print(f\"WORKSPACE_DIR: {os.getenv('WORKSPACE_DIR')}\")\n",
    "print(f\"Python executable: {os.sys.executable}\")"
   ]
  },
  {
   "cell_type": "markdown",
   "id": "59c62c92",
   "metadata": {},
   "source": [
    "## 2. Available Makefile Commands\n",
    "\n",
    "Let's see all available commands:"
   ]
  },
  {
   "cell_type": "code",
   "execution_count": null,
   "id": "b73fb49d",
   "metadata": {},
   "outputs": [],
   "source": [
    "# Show available make commands\n",
    "result = subprocess.run(['make', 'help'], capture_output=True, text=True)\n",
    "print(result.stdout)"
   ]
  },
  {
   "cell_type": "markdown",
   "id": "6c2377b1",
   "metadata": {},
   "source": [
    "## 3. Check Virtual Environment Status\n",
    "\n",
    "Let's verify if the virtual environment is properly set up:"
   ]
  },
  {
   "cell_type": "code",
   "execution_count": null,
   "id": "7a54959b",
   "metadata": {},
   "outputs": [],
   "source": [
    "import sys\n",
    "import subprocess\n",
    "\n",
    "# Check if we're in a virtual environment\n",
    "print(f\"Python version: {sys.version}\")\n",
    "print(f\"Python executable: {sys.executable}\")\n",
    "print(f\"Virtual environment: {hasattr(sys, 'real_prefix') or (hasattr(sys, 'base_prefix') and sys.base_prefix != sys.prefix)}\")\n",
    "\n",
    "# Check UV version\n",
    "try:\n",
    "    uv_version = subprocess.run(['uv', '--version'], capture_output=True, text=True)\n",
    "    print(f\"UV version: {uv_version.stdout.strip()}\")\n",
    "except FileNotFoundError:\n",
    "    print(\"UV not found\")"
   ]
  },
  {
   "cell_type": "markdown",
   "id": "1ee420c6",
   "metadata": {},
   "source": [
    "## 4. Check PyTorch Installation\n",
    "\n",
    "Let's verify PyTorch is installed correctly:"
   ]
  },
  {
   "cell_type": "code",
   "execution_count": null,
   "id": "105b8402",
   "metadata": {},
   "outputs": [],
   "source": [
    "try:\n",
    "    import torch\n",
    "    print(f\"PyTorch version: {torch.__version__}\")\n",
    "    print(f\"CUDA available: {torch.cuda.is_available()}\")\n",
    "    if torch.cuda.is_available():\n",
    "        print(f\"CUDA version: {torch.version.cuda}\")\n",
    "        print(f\"GPU count: {torch.cuda.device_count()}\")\n",
    "        for i in range(torch.cuda.device_count()):\n",
    "            print(f\"GPU {i}: {torch.cuda.get_device_name(i)}\")\n",
    "    else:\n",
    "        print(\"Running on CPU\")\n",
    "except ImportError:\n",
    "    print(\"PyTorch not installed. Run: make setup-venv\")"
   ]
  },
  {
   "cell_type": "markdown",
   "id": "b3a1fe19",
   "metadata": {},
   "source": [
    "## 5. Test Basic ML Libraries\n",
    "\n",
    "Let's test if common ML libraries are available:"
   ]
  },
  {
   "cell_type": "code",
   "execution_count": null,
   "id": "d11d960c",
   "metadata": {},
   "outputs": [],
   "source": [
    "# Test common libraries\n",
    "libraries = ['numpy', 'pandas', 'matplotlib', 'scikit-learn', 'jupyter']\n",
    "\n",
    "for lib in libraries:\n",
    "    try:\n",
    "        __import__(lib)\n",
    "        print(f\"✅ {lib} is available\")\n",
    "    except ImportError:\n",
    "        print(f\"❌ {lib} is not available\")"
   ]
  },
  {
   "cell_type": "markdown",
   "id": "e0f1afcd",
   "metadata": {},
   "source": [
    "## 6. Environment Reset Commands\n",
    "\n",
    "If you need to reset your environment:\n",
    "\n",
    "```bash\n",
    "# Clean virtual environment\n",
    "make clean-venv\n",
    "\n",
    "# Recreate with CPU support\n",
    "make setup-venv-cpu\n",
    "\n",
    "# Or recreate with GPU support\n",
    "make setup-venv-gpu\n",
    "```"
   ]
  },
  {
   "cell_type": "markdown",
   "id": "9ee212d0",
   "metadata": {},
   "source": [
    "## 7. Docker Commands\n",
    "\n",
    "For container management:\n",
    "\n",
    "```bash\n",
    "# Rebuild container (if you changed .env)\n",
    "make docker-rebuild\n",
    "\n",
    "# Start/stop containers\n",
    "make docker-up\n",
    "make docker-down\n",
    "```"
   ]
  }
 ],
 "metadata": {
  "language_info": {
   "name": "python"
  }
 },
 "nbformat": 4,
 "nbformat_minor": 5
}
